{
 "cells": [
  {
   "cell_type": "code",
   "execution_count": 50,
   "metadata": {},
   "outputs": [],
   "source": [
    "from pathlib import Path\n",
    "import pandas as pd \n",
    "import os \n",
    "import panel as pn "
   ]
  },
  {
   "cell_type": "code",
   "execution_count": 28,
   "metadata": {},
   "outputs": [],
   "source": [
    "simulated_df = pd.read_csv(Path('Resources/monte_carlo_results.csv'), index_col ='State')"
   ]
  },
  {
   "cell_type": "code",
   "execution_count": 31,
   "metadata": {},
   "outputs": [
    {
     "data": {
      "text/html": [
       "<div>\n",
       "<style scoped>\n",
       "    .dataframe tbody tr th:only-of-type {\n",
       "        vertical-align: middle;\n",
       "    }\n",
       "\n",
       "    .dataframe tbody tr th {\n",
       "        vertical-align: top;\n",
       "    }\n",
       "\n",
       "    .dataframe thead th {\n",
       "        text-align: right;\n",
       "    }\n",
       "</style>\n",
       "<table border=\"1\" class=\"dataframe\">\n",
       "  <thead>\n",
       "    <tr style=\"text-align: right;\">\n",
       "      <th></th>\n",
       "      <th>2020-12-31</th>\n",
       "      <th>2021-12-31</th>\n",
       "      <th>2022-12-31</th>\n",
       "      <th>2023-12-31</th>\n",
       "      <th>2024-12-31</th>\n",
       "      <th>2025-12-31</th>\n",
       "      <th>2026-12-31</th>\n",
       "      <th>2027-12-31</th>\n",
       "      <th>2028-12-31</th>\n",
       "      <th>2029-12-31</th>\n",
       "    </tr>\n",
       "    <tr>\n",
       "      <th>State</th>\n",
       "      <th></th>\n",
       "      <th></th>\n",
       "      <th></th>\n",
       "      <th></th>\n",
       "      <th></th>\n",
       "      <th></th>\n",
       "      <th></th>\n",
       "      <th></th>\n",
       "      <th></th>\n",
       "      <th></th>\n",
       "    </tr>\n",
       "  </thead>\n",
       "  <tbody>\n",
       "    <tr>\n",
       "      <td>Alabama</td>\n",
       "      <td>2.915907</td>\n",
       "      <td>2.560999</td>\n",
       "      <td>2.249288</td>\n",
       "      <td>1.975517</td>\n",
       "      <td>1.735067</td>\n",
       "      <td>1.523884</td>\n",
       "      <td>1.338405</td>\n",
       "      <td>1.175502</td>\n",
       "      <td>1.032426</td>\n",
       "      <td>0.906765</td>\n",
       "    </tr>\n",
       "    <tr>\n",
       "      <td>Alaska</td>\n",
       "      <td>6.181989</td>\n",
       "      <td>6.046991</td>\n",
       "      <td>5.914942</td>\n",
       "      <td>5.785776</td>\n",
       "      <td>5.659431</td>\n",
       "      <td>5.535845</td>\n",
       "      <td>5.414957</td>\n",
       "      <td>5.296710</td>\n",
       "      <td>5.181044</td>\n",
       "      <td>5.067905</td>\n",
       "    </tr>\n",
       "    <tr>\n",
       "      <td>Arizona</td>\n",
       "      <td>4.510437</td>\n",
       "      <td>4.151845</td>\n",
       "      <td>3.821763</td>\n",
       "      <td>3.517923</td>\n",
       "      <td>3.238239</td>\n",
       "      <td>2.980790</td>\n",
       "      <td>2.743809</td>\n",
       "      <td>2.525669</td>\n",
       "      <td>2.324872</td>\n",
       "      <td>2.140039</td>\n",
       "    </tr>\n",
       "    <tr>\n",
       "      <td>Arkansas</td>\n",
       "      <td>3.285059</td>\n",
       "      <td>3.014416</td>\n",
       "      <td>2.766071</td>\n",
       "      <td>2.538186</td>\n",
       "      <td>2.329076</td>\n",
       "      <td>2.137193</td>\n",
       "      <td>1.961118</td>\n",
       "      <td>1.799550</td>\n",
       "      <td>1.651293</td>\n",
       "      <td>1.515249</td>\n",
       "    </tr>\n",
       "    <tr>\n",
       "      <td>California</td>\n",
       "      <td>3.646690</td>\n",
       "      <td>3.235607</td>\n",
       "      <td>2.870865</td>\n",
       "      <td>2.547240</td>\n",
       "      <td>2.260096</td>\n",
       "      <td>2.005321</td>\n",
       "      <td>1.779266</td>\n",
       "      <td>1.578694</td>\n",
       "      <td>1.400731</td>\n",
       "      <td>1.242830</td>\n",
       "    </tr>\n",
       "  </tbody>\n",
       "</table>\n",
       "</div>"
      ],
      "text/plain": [
       "            2020-12-31  2021-12-31  2022-12-31  2023-12-31  2024-12-31  \\\n",
       "State                                                                    \n",
       "Alabama       2.915907    2.560999    2.249288    1.975517    1.735067   \n",
       "Alaska        6.181989    6.046991    5.914942    5.785776    5.659431   \n",
       "Arizona       4.510437    4.151845    3.821763    3.517923    3.238239   \n",
       "Arkansas      3.285059    3.014416    2.766071    2.538186    2.329076   \n",
       "California    3.646690    3.235607    2.870865    2.547240    2.260096   \n",
       "\n",
       "            2025-12-31  2026-12-31  2027-12-31  2028-12-31  2029-12-31  \n",
       "State                                                                   \n",
       "Alabama       1.523884    1.338405    1.175502    1.032426    0.906765  \n",
       "Alaska        5.535845    5.414957    5.296710    5.181044    5.067905  \n",
       "Arizona       2.980790    2.743809    2.525669    2.324872    2.140039  \n",
       "Arkansas      2.137193    1.961118    1.799550    1.651293    1.515249  \n",
       "California    2.005321    1.779266    1.578694    1.400731    1.242830  "
      ]
     },
     "execution_count": 31,
     "metadata": {},
     "output_type": "execute_result"
    }
   ],
   "source": [
    "simulated_df.head()"
   ]
  },
  {
   "cell_type": "code",
   "execution_count": 32,
   "metadata": {},
   "outputs": [],
   "source": [
    "final_df = simulated_df.reset_index().melt('State')"
   ]
  },
  {
   "cell_type": "code",
   "execution_count": 34,
   "metadata": {},
   "outputs": [],
   "source": [
    "final_df.rename(columns = {'variable':'Year',\n",
    "                          'value':'Unemployment Rate'}, inplace = True)"
   ]
  },
  {
   "cell_type": "code",
   "execution_count": 36,
   "metadata": {},
   "outputs": [],
   "source": [
    "coordinates_data = pd.read_csv(Path('Resources/coordinates_data.csv'), index_col = 'State')"
   ]
  },
  {
   "cell_type": "code",
   "execution_count": 38,
   "metadata": {},
   "outputs": [],
   "source": [
    "final_df.set_index('State', inplace = True)"
   ]
  },
  {
   "cell_type": "code",
   "execution_count": 40,
   "metadata": {},
   "outputs": [],
   "source": [
    "map_df  = join_df = pd.concat([final_df,coordinates_data], axis = 1, join = 'inner')"
   ]
  },
  {
   "cell_type": "code",
   "execution_count": 43,
   "metadata": {},
   "outputs": [],
   "source": [
    "map_df.reset_index(inplace =True)"
   ]
  },
  {
   "cell_type": "code",
   "execution_count": 44,
   "metadata": {},
   "outputs": [],
   "source": [
    "map_df.dtypes"
   ]
  },
  {
   "cell_type": "code",
   "execution_count": 49,
   "metadata": {},
   "outputs": [],
   "source": [
    "map_df.to_csv('Resources/map_data.csv')"
   ]
  }
 ],
 "metadata": {
  "kernelspec": {
   "display_name": "Python 3",
   "language": "python",
   "name": "python3"
  },
  "language_info": {
   "codemirror_mode": {
    "name": "ipython",
    "version": 3
   },
   "file_extension": ".py",
   "mimetype": "text/x-python",
   "name": "python",
   "nbconvert_exporter": "python",
   "pygments_lexer": "ipython3",
   "version": "3.7.4"
  }
 },
 "nbformat": 4,
 "nbformat_minor": 4
}
